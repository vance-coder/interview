{
 "cells": [
  {
   "cell_type": "markdown",
   "metadata": {},
   "source": [
    "贪心算法是指，在对问题求解时，总是做出在当前看来是最好的选择。也就是说，不从整体最优上加以考虑，他所做出的是在某种意义上的局部最优解而非全局最优解。"
   ]
  },
  {
   "cell_type": "markdown",
   "metadata": {},
   "source": [
    "#### 1. 前向最大匹配  分词算法之一\n",
    "\n",
    "分词算法就是根据一个字典对一个句子进行分词"
   ]
  },
  {
   "cell_type": "code",
   "execution_count": 3,
   "metadata": {},
   "outputs": [
    {
     "data": {
      "text/plain": [
       "['我', '在', '学习', '贪心算法']"
      ]
     },
     "execution_count": 3,
     "metadata": {},
     "output_type": "execute_result"
    }
   ],
   "source": [
    "sentence = '我在学习贪心算法'\n",
    "words = ['我', '在', '学习', '贪心', '贪心算法', '算法']\n",
    "\n",
    "def forwardMaxMatch(sentence, words, max_len=5):\n",
    "    res = []\n",
    "    while sentence:\n",
    "        for i in range(max_len):\n",
    "            st = sentence[:max_len-i]\n",
    "            if st in words:\n",
    "                res.append(st)\n",
    "                sentence = sentence[max_len-i:]\n",
    "                break\n",
    "        else:\n",
    "            # 遇到不在字典里面的词了\n",
    "            # 这里st、i这两个变量是最后一个for循环执行完后的值\n",
    "            res.append(st)\n",
    "            sentence = sentence[max_len-i:]\n",
    "            \n",
    "    return res\n",
    "    \n",
    "    \n",
    "forwardMaxMatch(sentence, words)"
   ]
  },
  {
   "cell_type": "markdown",
   "metadata": {},
   "source": [
    "#### 2.后向最大匹配 \n",
    "其实就是根据向前最大匹配稍微修改下即可"
   ]
  },
  {
   "cell_type": "code",
   "execution_count": 5,
   "metadata": {},
   "outputs": [
    {
     "data": {
      "text/plain": [
       "['我', '在', '学习', '贪心算法']"
      ]
     },
     "execution_count": 5,
     "metadata": {},
     "output_type": "execute_result"
    }
   ],
   "source": [
    "def backwardMaxMatch(sentence, words, max_len=5):\n",
    "    res = []\n",
    "    while sentence:\n",
    "        for i in range(max_len):\n",
    "            st = sentence[i-max_len:]\n",
    "            if st in words:\n",
    "                res.append(st)\n",
    "                sentence = sentence[:i-max_len]\n",
    "                break\n",
    "        else:\n",
    "            # 遇到不在字典里面的词了\n",
    "            # 这里st、i这两个变量是最后一个for循环执行完后的值\n",
    "            res.append(st)\n",
    "            sentence = sentence[:i-max_len]\n",
    "            \n",
    "    return res[::-1]\n",
    "\n",
    "backwardMaxMatch(sentence, words)"
   ]
  },
  {
   "cell_type": "markdown",
   "metadata": {},
   "source": [
    "#### 3. 维特比算法求最短路径\n",
    "\n",
    "<img src=\"../static/images/algorithm_2_DAG.png\" width=60%, height=60%></img>\n",
    "\n",
    "如图，求A到E的最短路径，但这个一开始有点复杂，我们先从简单的开始，看下图：\n",
    "\n",
    "<img src=\"../static/images/algorithm_2_DAG2.png\" width=65%, height=65%></img>\n",
    "\n",
    "先转成邻接表矩阵，如下dataframe显示，S行A列表示从点S到点A的距离为6，同理A行E列表示从点A到点E的距离为1，如此类推"
   ]
  },
  {
   "cell_type": "code",
   "execution_count": 44,
   "metadata": {},
   "outputs": [
    {
     "data": {
      "text/html": [
       "<div>\n",
       "<style scoped>\n",
       "    .dataframe tbody tr th:only-of-type {\n",
       "        vertical-align: middle;\n",
       "    }\n",
       "\n",
       "    .dataframe tbody tr th {\n",
       "        vertical-align: top;\n",
       "    }\n",
       "\n",
       "    .dataframe thead th {\n",
       "        text-align: right;\n",
       "    }\n",
       "</style>\n",
       "<table border=\"1\" class=\"dataframe\">\n",
       "  <thead>\n",
       "    <tr style=\"text-align: right;\">\n",
       "      <th></th>\n",
       "      <th>S</th>\n",
       "      <th>A</th>\n",
       "      <th>B</th>\n",
       "      <th>E</th>\n",
       "    </tr>\n",
       "  </thead>\n",
       "  <tbody>\n",
       "    <tr>\n",
       "      <th>S</th>\n",
       "      <td>0</td>\n",
       "      <td>6</td>\n",
       "      <td>2</td>\n",
       "      <td>0</td>\n",
       "    </tr>\n",
       "    <tr>\n",
       "      <th>A</th>\n",
       "      <td>0</td>\n",
       "      <td>0</td>\n",
       "      <td>0</td>\n",
       "      <td>1</td>\n",
       "    </tr>\n",
       "    <tr>\n",
       "      <th>B</th>\n",
       "      <td>0</td>\n",
       "      <td>3</td>\n",
       "      <td>0</td>\n",
       "      <td>5</td>\n",
       "    </tr>\n",
       "    <tr>\n",
       "      <th>E</th>\n",
       "      <td>0</td>\n",
       "      <td>0</td>\n",
       "      <td>0</td>\n",
       "      <td>0</td>\n",
       "    </tr>\n",
       "  </tbody>\n",
       "</table>\n",
       "</div>"
      ],
      "text/plain": [
       "   S  A  B  E\n",
       "S  0  6  2  0\n",
       "A  0  0  0  1\n",
       "B  0  3  0  5\n",
       "E  0  0  0  0"
      ]
     },
     "execution_count": 44,
     "metadata": {},
     "output_type": "execute_result"
    }
   ],
   "source": [
    "from pandas import DataFrame\n",
    "\n",
    "idx = ['S', 'A', 'B', 'E']\n",
    "data = [\n",
    "    [0, 6, 2, 0],\n",
    "    [0, 0, 0, 1],\n",
    "    [0, 3, 0, 5],\n",
    "    [0, 0, 0, 0]\n",
    "]\n",
    "df = DataFrame(data, index=idx, columns=idx)\n",
    "\n",
    "df"
   ]
  },
  {
   "cell_type": "code",
   "execution_count": 49,
   "metadata": {},
   "outputs": [
    {
     "data": {
      "text/plain": [
       "6"
      ]
     },
     "execution_count": 49,
     "metadata": {},
     "output_type": "execute_result"
    }
   ],
   "source": [
    "def f(data, idx):\n",
    "    if idx == 0:\n",
    "        return 0\n",
    "    return min(f(data, i)+v[idx] for i, v in enumerate(data) if v[idx] > 0)\n",
    "\n",
    "# 上面过程比较精简 不理解可以用下面这段等同的代码，进行调试\n",
    "#     nums = []\n",
    "#     for i, v in enumerate(data):\n",
    "#         if v[idx] > 0:\n",
    "#             nums.append(v[idx]+f(data, i))\n",
    "#     return min(nums)\n",
    "\n",
    "f(data, 3)"
   ]
  },
  {
   "cell_type": "code",
   "execution_count": 50,
   "metadata": {},
   "outputs": [
    {
     "data": {
      "text/plain": [
       "10"
      ]
     },
     "execution_count": 50,
     "metadata": {},
     "output_type": "execute_result"
    }
   ],
   "source": [
    "# 只看图一的A、B1、B2、B3、C2点时（求A点到C2点最短距离）\n",
    "data1 = [\n",
    "    [0, 6, 7, 5, 0],\n",
    "    [0, 0, 0, 0, 6],\n",
    "    [0, 0, 0, 0, 3],\n",
    "    [0, 0, 0, 0, 6],\n",
    "    [0, 0, 0, 0, 0],\n",
    "]\n",
    "f(data1, 4)"
   ]
  },
  {
   "cell_type": "markdown",
   "metadata": {},
   "source": [
    "上面的算法 使用了递归的方式，但没有做缓存，所以当数据量大的时候会存在很多重复计算，改进一下"
   ]
  },
  {
   "cell_type": "code",
   "execution_count": 51,
   "metadata": {},
   "outputs": [
    {
     "data": {
      "text/plain": [
       "6"
      ]
     },
     "execution_count": 51,
     "metadata": {},
     "output_type": "execute_result"
    }
   ],
   "source": [
    "count = {}\n",
    "\n",
    "def f(data, idx):\n",
    "    if idx == 0:\n",
    "        return 0\n",
    "    if idx in count:\n",
    "        return count[idx]\n",
    "    count[idx] = min(f(data, i)+v[idx] for i, v in enumerate(data) if v[idx] > 0)\n",
    "    return count[idx]\n",
    "\n",
    "\n",
    "f(data, 3)"
   ]
  },
  {
   "cell_type": "code",
   "execution_count": null,
   "metadata": {},
   "outputs": [],
   "source": [
    "#  TODO "
   ]
  },
  {
   "cell_type": "code",
   "execution_count": null,
   "metadata": {},
   "outputs": [],
   "source": []
  }
 ],
 "metadata": {
  "kernelspec": {
   "display_name": "Python 3",
   "language": "python",
   "name": "python3"
  },
  "language_info": {
   "codemirror_mode": {
    "name": "ipython",
    "version": 3
   },
   "file_extension": ".py",
   "mimetype": "text/x-python",
   "name": "python",
   "nbconvert_exporter": "python",
   "pygments_lexer": "ipython3",
   "version": "3.6.3"
  }
 },
 "nbformat": 4,
 "nbformat_minor": 4
}
