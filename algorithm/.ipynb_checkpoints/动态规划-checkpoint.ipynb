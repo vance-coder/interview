{
 "cells": [
  {
   "cell_type": "markdown",
   "metadata": {},
   "source": [
    "动态规划(dynamic programming，缩写DP)就是求解决策过程最优化的数学方法，动态规划一般可分为线性动规，区域动规，树形动规，背包动规四类。"
   ]
  },
  {
   "cell_type": "markdown",
   "metadata": {},
   "source": [
    "### fibonanci number\n",
    "说DP之前，先说fibonanci数列，就是后一项数字等于前两项和的那个数列：\n",
    "\n",
    "1, 1, 2, 3, 5, 8, 13, 21......\n",
    "\n",
    "如果使用Python来求第n个数可以使用递归方式来求解，如下：\n"
   ]
  },
  {
   "cell_type": "code",
   "execution_count": 5,
   "metadata": {},
   "outputs": [
    {
     "data": {
      "text/plain": [
       "832040"
      ]
     },
     "execution_count": 5,
     "metadata": {},
     "output_type": "execute_result"
    }
   ],
   "source": [
    "# 求fibonanci number的第N个数\n",
    "def fib(n):\n",
    "    if n <= 2:\n",
    "        return 1\n",
    "    return fib(n-1) + fib(n-2)\n",
    "\n",
    "fib(30) # 第30个数字"
   ]
  },
  {
   "cell_type": "code",
   "execution_count": 10,
   "metadata": {},
   "outputs": [
    {
     "name": "stdout",
     "output_type": "stream",
     "text": [
      "CPU times: user 29.7 s, sys: 79.2 ms, total: 29.7 s\n",
      "Wall time: 29.9 s\n"
     ]
    },
    {
     "data": {
      "text/plain": [
       "102334155"
      ]
     },
     "execution_count": 10,
     "metadata": {},
     "output_type": "execute_result"
    }
   ],
   "source": [
    "%%time\n",
    "fib(40) # 第40个数字"
   ]
  },
  {
   "cell_type": "markdown",
   "metadata": {},
   "source": [
    "如下面的打印信息，当我要计算第40个数的时候就执行了差不多30s，如果到100估计根本无法计算。\n",
    "fibonanci递归计算方式的时间复杂度是O(2^n)，那我们来看下需要多少计算量：\n",
    "\n",
    "（简单说下为什么上面的fib函数时间复杂度是O(2^n)，这是通过递归二叉树来计算的，就是每一次都会分裂成两个子树（类似二分裂），可以理解为每一次计算就是发生在二叉树的一个叶子节点上，那么有多少个叶子节点就有多少次计算，深度为K的二叉树的叶子节点的数量为：2^k-1）"
   ]
  },
  {
   "cell_type": "code",
   "execution_count": 12,
   "metadata": {},
   "outputs": [
    {
     "data": {
      "text/plain": [
       "1099511627776"
      ]
     },
     "execution_count": 12,
     "metadata": {},
     "output_type": "execute_result"
    }
   ],
   "source": [
    "# 2的40次方\n",
    "2**40  "
   ]
  },
  {
   "cell_type": "code",
   "execution_count": 14,
   "metadata": {},
   "outputs": [
    {
     "data": {
      "text/plain": [
       "1267650600228229401496703205376"
      ]
     },
     "execution_count": 14,
     "metadata": {},
     "output_type": "execute_result"
    }
   ],
   "source": [
    "# 2的100次方\n",
    "2**100"
   ]
  },
  {
   "cell_type": "markdown",
   "metadata": {},
   "source": [
    "可以看到这这种指数级增长的计算量是有多恐怖，简直没法玩。为什么这种方式的复杂度这么高呢？其实是因为计算机做了很多次重复的计算，比如如果求fib(10)的时候，拆分成了fib(9)和fib(8)，然而fib(9)继续计算的时候又拆成了fib(8)，这样fib(8)又会被计算一次，像这样的重复计算发生了很多次。\n",
    "\n",
    "既然这样那我们就把已经计算过的结果存起来，然后下次计算的时候直接取出来用就行了，这样就避免了重复计算。这种思想就是动态规划！下面用动态规划思想来改善一下fib函数："
   ]
  },
  {
   "cell_type": "markdown",
   "metadata": {},
   "source": [
    "#### 1. 使用Python3内置的lru_cache装饰器\n",
    "\n",
    "Python3内置了一个缓存装饰器，装饰器的好处不多说了，可以不修改原来的fib函数，直接达到想要的效果"
   ]
  },
  {
   "cell_type": "code",
   "execution_count": 5,
   "metadata": {},
   "outputs": [
    {
     "name": "stdout",
     "output_type": "stream",
     "text": [
      "354224848179261915075\n",
      "CPU times: user 210 µs, sys: 98 µs, total: 308 µs\n",
      "Wall time: 241 µs\n"
     ]
    }
   ],
   "source": [
    "%%time\n",
    "from functools import lru_cache\n",
    "\n",
    "@lru_cache(100)\n",
    "def fib(n):\n",
    "    if n <= 2:\n",
    "        return 1\n",
    "    return fib(n-1) + fib(n-2)\n",
    "\n",
    "print(fib(100))  # 秒算"
   ]
  },
  {
   "cell_type": "markdown",
   "metadata": {},
   "source": [
    "#### 2. 变量缓存计算结果\n",
    "计算之前先尝试从字典里面取，没取到再计算并将结果放入字典，下次就能取到上一次的计算结果了"
   ]
  },
  {
   "cell_type": "code",
   "execution_count": 10,
   "metadata": {},
   "outputs": [
    {
     "name": "stdout",
     "output_type": "stream",
     "text": [
      "354224848179261915075\n",
      "CPU times: user 176 µs, sys: 15 µs, total: 191 µs\n",
      "Wall time: 199 µs\n"
     ]
    }
   ],
   "source": [
    "%%time\n",
    "count = {}\n",
    "def fib(n):\n",
    "    if n <= 2:\n",
    "        return 1\n",
    "    \n",
    "    if n in count:\n",
    "        return count[n]\n",
    "    \n",
    "    count[n] = fib(n-1) + fib(n-2)\n",
    "    return count[n]\n",
    "\n",
    "print(fib(100))  # 秒算"
   ]
  },
  {
   "cell_type": "markdown",
   "metadata": {},
   "source": [
    "可以看到，加入缓存后效果是非常的明显的，上面的DP其实就是递归+缓存实现的，这种加缓存可以认为是用空间换时间，另外加了缓存后时间复杂度就变成了O(n)了，因为每个项只计算了一次。\n",
    "\n",
    "像上面这种递归方式可以实现DP，但还有另外一个方法就是迭代的方式去求解（也就是一种是递归、一种是迭代）。\n",
    "\n",
    "1. 递归方式是自顶向下的求解过程，就是从大问题开始着手，然后大问题一步步细分小问题，最终求得解；\n",
    "2. 迭代方式是自底向上的求解过程，就是从小问题开始着手，然后小问题一步步合成大问题，最终求得解；\n",
    "\n",
    "好像很难懂的样子，没关系我们先看下迭代方式是怎么实现求解fibonanci数列的，然后对比下就容易懂了："
   ]
  },
  {
   "cell_type": "code",
   "execution_count": 38,
   "metadata": {},
   "outputs": [
    {
     "name": "stdout",
     "output_type": "stream",
     "text": [
      "354224848179261915075\n",
      "CPU times: user 89 µs, sys: 27 µs, total: 116 µs\n",
      "Wall time: 131 µs\n"
     ]
    }
   ],
   "source": [
    "%%time\n",
    "def fib(n):\n",
    "    dp = [0]*n\n",
    "    dp[0], dp[1] = 1, 1\n",
    "    for i in range(2, n):\n",
    "        dp[i] = dp[i-1] + dp[i-2]\n",
    "    return dp[n-1]\n",
    "\n",
    "print(fib(100))"
   ]
  },
  {
   "cell_type": "markdown",
   "metadata": {},
   "source": [
    "这样对比可发现，假如计算fib(100)，递归的方式是将fib(100)分成fib(99)和fib(98)，从大问题往小来算，而迭代的方式是先从0、1开始往上算。\n",
    "\n",
    "上面这种实现方式时间复杂度是减少了，但空间复杂度仍然是O(N)，所以还可以继续改进一下："
   ]
  },
  {
   "cell_type": "code",
   "execution_count": 43,
   "metadata": {},
   "outputs": [
    {
     "name": "stdout",
     "output_type": "stream",
     "text": [
      "354224848179261915075\n",
      "CPU times: user 174 µs, sys: 71 µs, total: 245 µs\n",
      "Wall time: 204 µs\n"
     ]
    }
   ],
   "source": [
    "%%time\n",
    "def fib(n):\n",
    "    a, b, c = 1, 1, 0\n",
    "    for i in range(2, n):\n",
    "        c = a + b\n",
    "        a, b = b, c\n",
    "    return c\n",
    "\n",
    "print(fib(100))"
   ]
  },
  {
   "cell_type": "markdown",
   "metadata": {},
   "source": [
    "下面开始做一些练习题来学习更多的DP思想：\n",
    "\n",
    "1. LeetCode 爬楼梯"
   ]
  },
  {
   "cell_type": "code",
   "execution_count": 50,
   "metadata": {},
   "outputs": [
    {
     "data": {
      "text/plain": [
       "2"
      ]
     },
     "execution_count": 50,
     "metadata": {},
     "output_type": "execute_result"
    }
   ],
   "source": [
    "\n",
    "@lru_cache(100)\n",
    "def climbStairs(n):\n",
    "    \"\"\"\n",
    "    :type n: int\n",
    "    :rtype: int\n",
    "    \"\"\"\n",
    "    return climbStairs(n - 1) + climbStairs(n - 2) if n > 2 else n\n",
    "    \n",
    "climbStairs(2)"
   ]
  },
  {
   "cell_type": "code",
   "execution_count": 53,
   "metadata": {},
   "outputs": [
    {
     "data": {
      "text/plain": [
       "2"
      ]
     },
     "execution_count": 53,
     "metadata": {},
     "output_type": "execute_result"
    }
   ],
   "source": [
    "def climbStairs(n):\n",
    "    \"\"\"\n",
    "    :type n: int\n",
    "    :rtype: int\n",
    "    \"\"\"\n",
    "    if n <= 2:\n",
    "        return n\n",
    "    step1, step2, tp = 1, 2, 0\n",
    "    for i in range(2, n):\n",
    "        tp = step1 + step2\n",
    "        step1, step2 = step2, tp\n",
    "    return tp\n",
    "\n",
    "climbStairs(2)"
   ]
  },
  {
   "cell_type": "code",
   "execution_count": 13,
   "metadata": {},
   "outputs": [
    {
     "name": "stdout",
     "output_type": "stream",
     "text": [
      "[14, 12, 10, 7, 6, 4, 3, 2]\n"
     ]
    }
   ],
   "source": [
    "# 冒泡排序 从大到小\n",
    "lst = [10, 4, 12, 3, 6, 7, 2, 14]\n",
    "_len = len(lst)\n",
    "for i in range(_len-1): # -1 是因为N个数其实只要排N-1次\n",
    "    for j in range(_len-i-1):\n",
    "        if lst[j] < lst[j+1]:\n",
    "            lst[j], lst[j+1] = lst[j+1], lst[j]\n",
    "print(lst)"
   ]
  },
  {
   "cell_type": "markdown",
   "metadata": {},
   "source": [
    "### DP算法十大经典案例\n",
    "\n",
    "#### 1. 最大子序和 [maximum-subarray](https://leetcode-cn.com/problems/maximum-subarray/)"
   ]
  },
  {
   "cell_type": "code",
   "execution_count": 14,
   "metadata": {},
   "outputs": [],
   "source": [
    "nums = [-2,1,-3,4,-1,2,1,-5,4]    "
   ]
  },
  {
   "cell_type": "code",
   "execution_count": 6,
   "metadata": {},
   "outputs": [
    {
     "data": {
      "text/plain": [
       "6"
      ]
     },
     "execution_count": 6,
     "metadata": {},
     "output_type": "execute_result"
    }
   ],
   "source": [
    "# 常规DP解法\n",
    "def maxSubArray(nums):\n",
    "    temp = max_sum = nums[0]\n",
    "    \n",
    "    for i in nums[1:]:\n",
    "        temp = max(temp+i, i)\n",
    "        max_sum = max(max_sum, temp)\n",
    "    return max_sum\n",
    "\n",
    "maxSubArray(nums)    "
   ]
  },
  {
   "cell_type": "code",
   "execution_count": 15,
   "metadata": {},
   "outputs": [
    {
     "data": {
      "text/plain": [
       "6"
      ]
     },
     "execution_count": 15,
     "metadata": {},
     "output_type": "execute_result"
    }
   ],
   "source": [
    "# 参考网友的解法, 直接修改原来的数组\n",
    "def maxSubArray(nums):\n",
    "    for i in range(1, len(nums)):\n",
    "        nums[i] += max(nums[i-1], 0)\n",
    "    return max(nums)\n",
    "\n",
    "maxSubArray(nums)  "
   ]
  },
  {
   "cell_type": "code",
   "execution_count": null,
   "metadata": {},
   "outputs": [],
   "source": []
  }
 ],
 "metadata": {
  "kernelspec": {
   "display_name": "Python 3",
   "language": "python",
   "name": "python3"
  },
  "language_info": {
   "codemirror_mode": {
    "name": "ipython",
    "version": 3
   },
   "file_extension": ".py",
   "mimetype": "text/x-python",
   "name": "python",
   "nbconvert_exporter": "python",
   "pygments_lexer": "ipython3",
   "version": "3.6.3"
  }
 },
 "nbformat": 4,
 "nbformat_minor": 4
}
