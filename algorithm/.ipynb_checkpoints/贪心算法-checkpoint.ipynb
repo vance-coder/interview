{
 "cells": [
  {
   "cell_type": "markdown",
   "metadata": {},
   "source": [
    "贪心算法是指，在对问题求解时，总是做出在当前看来是最好的选择。也就是说，不从整体最优上加以考虑，他所做出的是在某种意义上的局部最优解而非全局最优解。"
   ]
  },
  {
   "cell_type": "markdown",
   "metadata": {},
   "source": [
    "#### 1. 向前最大匹配  分词算法之一\n",
    "\n",
    "分词算法就是根据一个字典对一个句子进行分词"
   ]
  },
  {
   "cell_type": "code",
   "execution_count": 3,
   "metadata": {},
   "outputs": [
    {
     "data": {
      "text/plain": [
       "['我', '在', '学习', '贪心算法']"
      ]
     },
     "execution_count": 3,
     "metadata": {},
     "output_type": "execute_result"
    }
   ],
   "source": [
    "sentence = '我在学习贪心算法'\n",
    "words = ['我', '在', '学习', '贪心', '贪心算法', '算法']\n",
    "\n",
    "def forwardMaxMatch(sentence, words, max_len=5):\n",
    "    res = []\n",
    "    while sentence:\n",
    "        for i in range(max_len):\n",
    "            st = sentence[:max_len-i]\n",
    "            if st in words:\n",
    "                res.append(st)\n",
    "                sentence = sentence[max_len-i:]\n",
    "                break\n",
    "        else:\n",
    "            # 遇到不在字典里面的词了\n",
    "            # 这里st、i这两个变量是最后一个for循环执行完后的值\n",
    "            res.append(st)\n",
    "            sentence = sentence[max_len-i:]\n",
    "            \n",
    "    return res\n",
    "    \n",
    "    \n",
    "forwardMaxMatch(sentence, words)"
   ]
  },
  {
   "cell_type": "markdown",
   "metadata": {},
   "source": [
    "#### 2.向后最大匹配 \n",
    "其实就是根据向前最大匹配稍微修改下即可"
   ]
  },
  {
   "cell_type": "code",
   "execution_count": 5,
   "metadata": {},
   "outputs": [
    {
     "data": {
      "text/plain": [
       "['我', '在', '学习', '贪心算法']"
      ]
     },
     "execution_count": 5,
     "metadata": {},
     "output_type": "execute_result"
    }
   ],
   "source": [
    "def backwardMaxMatch(sentence, words, max_len=5):\n",
    "    res = []\n",
    "    while sentence:\n",
    "        for i in range(max_len):\n",
    "            st = sentence[i-max_len:]\n",
    "            if st in words:\n",
    "                res.append(st)\n",
    "                sentence = sentence[:i-max_len]\n",
    "                break\n",
    "        else:\n",
    "            # 遇到不在字典里面的词了\n",
    "            # 这里st、i这两个变量是最后一个for循环执行完后的值\n",
    "            res.append(st)\n",
    "            sentence = sentence[:i-max_len]\n",
    "            \n",
    "    return res[::-1]\n",
    "\n",
    "backwardMaxMatch(sentence, words)"
   ]
  },
  {
   "cell_type": "markdown",
   "metadata": {},
   "source": [
    "#### 3. 维特比算法求最短路径\n",
    "\n",
    "<img src=\"../static/images/algorithm_2_DAG.png\" width=60%, height=60%></img>"
   ]
  },
  {
   "cell_type": "code",
   "execution_count": null,
   "metadata": {},
   "outputs": [],
   "source": []
  }
 ],
 "metadata": {
  "kernelspec": {
   "display_name": "Python 3",
   "language": "python",
   "name": "python3"
  },
  "language_info": {
   "codemirror_mode": {
    "name": "ipython",
    "version": 3
   },
   "file_extension": ".py",
   "mimetype": "text/x-python",
   "name": "python",
   "nbconvert_exporter": "python",
   "pygments_lexer": "ipython3",
   "version": "3.6.3"
  }
 },
 "nbformat": 4,
 "nbformat_minor": 4
}
