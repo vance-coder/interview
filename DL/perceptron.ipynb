{
 "cells": [
  {
   "cell_type": "markdown",
   "metadata": {},
   "source": [
    "#### V1 实现感知机（单个神经元），但在此v1版本暂时不考虑bias，也就是只有weight"
   ]
  },
  {
   "cell_type": "code",
   "execution_count": 96,
   "metadata": {},
   "outputs": [
    {
     "data": {
      "text/plain": [
       "array([[0.09762701],\n",
       "       [0.43037873]])"
      ]
     },
     "execution_count": 96,
     "metadata": {},
     "output_type": "execute_result"
    }
   ],
   "source": [
    "import numpy as np\n",
    "\n",
    "np.random.seed(0)\n",
    "2*np.random.random((2, 1)) - 1"
   ]
  },
  {
   "cell_type": "code",
   "execution_count": 118,
   "metadata": {},
   "outputs": [],
   "source": [
    "class Perceptron():\n",
    "    def __init__(self):\n",
    "        \n",
    "        self.x = np.array([[0, 0, 1], [1, 1, 1], [1, 0, 1], [0, 1, 1]])\n",
    "        self.y = np.array([[0, 1, 1, 0]]).T\n",
    "\n",
    "        # learning rate\n",
    "        self.rate = 0.01\n",
    "\n",
    "        # weight\n",
    "        self.weight = np.array([[0.0, 0.0, 0.0]]).T\n",
    "\n",
    "    def sigmoid(self, x):\n",
    "        return 1 / (1 + np.exp(-x))\n",
    "    \n",
    "    def fp(self, x):\n",
    "        \"\"\"\n",
    "        forward propagation\n",
    "        计算结果\n",
    "        \"\"\"\n",
    "        # 神经元的输出，w * x （权重乘以输入）\n",
    "        return self.sigmoid(np.dot(x, self.weight))\n",
    "\n",
    "    def bp(self, output):\n",
    "        \"\"\"\n",
    "        backward propagation\n",
    "        更新权重\n",
    "        \"\"\"\n",
    "        # 权重增量，rate*(t-y)*x\n",
    "        delta = np.dot(self.x.T, self.rate*(self.y - output))\n",
    "        self.weight += delta\n",
    "    \n",
    "    def fit(self, epoch=100):\n",
    "        for i in range(epoch):\n",
    "            output = self.fp(self.x)\n",
    "            self.bp(output)\n",
    "    \n",
    "    def predict(self, x):\n",
    "        return self.fp(x)\n",
    "        \n",
    "\n",
    "p = Perceptron()\n",
    "p.fit(10000)    "
   ]
  },
  {
   "cell_type": "code",
   "execution_count": 95,
   "metadata": {},
   "outputs": [
    {
     "data": {
      "text/plain": [
       "array([0.98759758])"
      ]
     },
     "execution_count": 95,
     "metadata": {},
     "output_type": "execute_result"
    }
   ],
   "source": [
    "p.predict([1, 1, 1])"
   ]
  },
  {
   "cell_type": "markdown",
   "metadata": {},
   "source": [
    "#### V2 实现真正的感知机v2版本、带bias和weight\n",
    "带上bias后，感知机的表达能力就可以更强，比如可以在原点以外做分类线分类"
   ]
  },
  {
   "cell_type": "code",
   "execution_count": 164,
   "metadata": {},
   "outputs": [],
   "source": [
    "class Perceptron():\n",
    "    def __init__(self):\n",
    "        \n",
    "        self.x = np.array([[0, 0], [1, 1], [2, 2], [3, 3], [5, 5], [6, 6], [4, 5], [2, 4]])\n",
    "        self.y = np.array([[0, 0, 0, 0, 1, 1, 1, 1]]).T\n",
    "\n",
    "        # learning rate\n",
    "        self.rate = 0.01\n",
    "\n",
    "        # weight\n",
    "        self.weight = np.array([[0.0, 0.0]]).T\n",
    "        \n",
    "        # bias\n",
    "        self.bias = 0\n",
    "\n",
    "    def sigmoid(self, x):\n",
    "        return 1 / (1 + np.exp(-x))\n",
    "    \n",
    "    def fp(self, x):\n",
    "        \"\"\"\n",
    "        forward propagation\n",
    "        计算结果\n",
    "        \"\"\"\n",
    "        # 神经元的输出，w * x + b（权重 * 输入 + 偏置）\n",
    "        # 因为采用矩阵运算、加偏置的时候是np.sum，这里比较绕\n",
    "        return self.sigmoid(np.dot(x, self.weight) + self.bias)\n",
    "\n",
    "    def bp(self, output):\n",
    "        \"\"\"\n",
    "        backward propagation\n",
    "        更新权重和偏置\n",
    "        \"\"\"\n",
    "        # 偏置更新，rate*(t-y)\n",
    "        delta_bias = self.rate*(self.y - output)\n",
    "        self.bias += np.sum(delta_bias)\n",
    "        \n",
    "        # 权重增量，rate*(t-y)*x\n",
    "        delta_weight = np.dot(self.x.T, delta_bias)\n",
    "        self.weight += delta_weight\n",
    "    \n",
    "    def fit(self, epoch=100):\n",
    "        for i in range(epoch):\n",
    "            output = self.fp(self.x)\n",
    "            self.bp(output)\n",
    "    \n",
    "    def predict(self, x):\n",
    "        return self.fp(x)\n",
    "    \n",
    "    def print_para(self):\n",
    "        print('weight:', self.weight)\n",
    "        print('bias', self.bias)\n",
    "        \n",
    "\n",
    "p = Perceptron()\n",
    "p.fit(100000)    "
   ]
  },
  {
   "cell_type": "code",
   "execution_count": 165,
   "metadata": {},
   "outputs": [
    {
     "data": {
      "text/plain": [
       "array([5.10742984e-09])"
      ]
     },
     "execution_count": 165,
     "metadata": {},
     "output_type": "execute_result"
    }
   ],
   "source": [
    "# from numpy import array, exp, random, dot\n",
    "\n",
    "# X = array([[0, 0, 1], [1, 1, 1], [1, 0, 1], [0, 1, 1]])\n",
    "# y = array([[0, 1, 1, 0]]).T\n",
    "# weights = 2* random.random((3, 1)) - 1\n",
    "\n",
    "# for it in range(10):\n",
    "#     output = 1/(1+exp(-dot(X, weight)))\n",
    "#     print(y, output)\n",
    "#     error = y - output\n",
    "#     print(error)\n",
    "p.predict([0, 0])"
   ]
  },
  {
   "cell_type": "code",
   "execution_count": 162,
   "metadata": {},
   "outputs": [
    {
     "name": "stdout",
     "output_type": "stream",
     "text": [
      "weight: [[10.22484059]\n",
      " [10.22484059]]\n",
      "bias -15.50655052229303\n"
     ]
    }
   ],
   "source": [
    "p.print_para()"
   ]
  },
  {
   "cell_type": "markdown",
   "metadata": {},
   "source": [
    "**Perceptron of sklearn**"
   ]
  },
  {
   "cell_type": "code",
   "execution_count": 179,
   "metadata": {},
   "outputs": [
    {
     "data": {
      "text/plain": [
       "Perceptron(alpha=0.0001, class_weight=None, eta0=1.0, fit_intercept=True,\n",
       "      max_iter=10000, n_iter=None, n_jobs=1, penalty=None, random_state=0,\n",
       "      shuffle=True, tol=None, verbose=0, warm_start=False)"
      ]
     },
     "execution_count": 179,
     "metadata": {},
     "output_type": "execute_result"
    }
   ],
   "source": [
    "from sklearn.linear_model import Perceptron\n",
    "x = np.array([[0, 0], [1, 1.2], [2, 2.3], [2.1, 3], [5, 5], [6, 6.4], [4, 5], [2, 4]])\n",
    "y = np.array([0, 0, 0, 0, 1, 1, 1, 1])\n",
    "clf = Perceptron(max_iter=10000)\n",
    "\n",
    "clf.fit(x, y)"
   ]
  },
  {
   "cell_type": "code",
   "execution_count": 180,
   "metadata": {},
   "outputs": [
    {
     "data": {
      "text/plain": [
       "array([1])"
      ]
     },
     "execution_count": 180,
     "metadata": {},
     "output_type": "execute_result"
    }
   ],
   "source": [
    "clf.predict([[1, 5]])"
   ]
  },
  {
   "cell_type": "code",
   "execution_count": 181,
   "metadata": {},
   "outputs": [
    {
     "data": {
      "image/png": "[encoded data removed]",
      "text/plain": [
       "<Figure size 432x288 with 1 Axes>"
      ]
     },
     "metadata": {},
     "output_type": "display_data"
    }
   ],
   "source": [
    "from matplotlib import pyplot as plt\n",
    "%matplotlib inline  \n",
    "line_x = np.arange(0,4)\n",
    "line_y = line_x * (-clf.coef_[0][0] / clf.coef_[0][1]) - clf.intercept_\n",
    "plt.plot(line_x,line_y)\n",
    "plt.show()"
   ]
  },
  {
   "cell_type": "code",
   "execution_count": null,
   "metadata": {},
   "outputs": [],
   "source": []
  },
  {
   "cell_type": "code",
   "execution_count": null,
   "metadata": {},
   "outputs": [],
   "source": []
  }
 ],
 "metadata": {
  "kernelspec": {
   "display_name": "Python 3",
   "language": "python",
   "name": "python3"
  },
  "language_info": {
   "codemirror_mode": {
    "name": "ipython",
    "version": 3
   },
   "file_extension": ".py",
   "mimetype": "text/x-python",
   "name": "python",
   "nbconvert_exporter": "python",
   "pygments_lexer": "ipython3",
   "version": "3.6.3"
  }
 },
 "nbformat": 4,
 "nbformat_minor": 4
}
