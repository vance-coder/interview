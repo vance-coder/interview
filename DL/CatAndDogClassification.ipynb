{
 "cells": [
  {
   "cell_type": "code",
   "execution_count": 1,
   "metadata": {},
   "outputs": [],
   "source": [
    "import cv2\n",
    "import numpy as np\n",
    "import matplotlib.pyplot as plt\n",
    "from PIL import Image\n",
    "\n",
    "\n",
    "def image_preporcess(img_path, target_size):\n",
    "    # 以灰度图的形式读入图片\n",
    "    image = cv2.imread(img_path, 0)\n",
    "    \n",
    "    # resize 尺寸\n",
    "    ih, iw = target_size\n",
    "    # 原始图片尺寸\n",
    "    h,  w = image.shape\n",
    "\n",
    "    # 计算缩放后图片尺寸\n",
    "    scale = min(iw/w, ih/h)\n",
    "    nw, nh = int(scale * w), int(scale * h)\n",
    "    image_resized = cv2.resize(image, (nw, nh))\n",
    "\n",
    "    # 创建一张画布，画布的尺寸就是目标尺寸\n",
    "    # fill_value=120为灰色画布\n",
    "    image_paded = np.full(shape=[ih, iw], fill_value=120)\n",
    "    dw, dh = (iw - nw) // 2, (ih-nh) // 2\n",
    "\n",
    "    # 将缩放后的图片放在画布中央\n",
    "    image_paded[dh:nh+dh, dw:nw+dw] = image_resized\n",
    "    \n",
    "    # 归一化处理\n",
    "    image_paded = image_paded / 255.\n",
    "\n",
    "    return image_paded\n",
    "\n",
    "if __name__==\"__main__\":\n",
    "    # TODO cv2.imread(image_path, 0) 读取灰度图像\n",
    "    image_path = \"/Users/liuliangjun/PycharmProjects/vance/images/dogAndCat/train/cat.0.jpg\"\n",
    "    img=image_preporcess(image_path,(100,100))\n",
    "    plt.imshow(img)"
   ]
  },
  {
   "cell_type": "code",
   "execution_count": null,
   "metadata": {},
   "outputs": [],
   "source": [
    "from glob import glob\n",
    "image_path = '/Users/liuliangjun/PycharmProjects/vance/images/dogAndCat/train/*'\n",
    "\n",
    "x = []\n",
    "y = []\n",
    "for i in glob(image_path):\n",
    "    y.append(i.split('.')[0].split('/')[-1])\n",
    "    x.append(image_preporcess(i,(100,100)))\n",
    "\n",
    "x = np.array(x)\n",
    "y = np.array(y)"
   ]
  },
  {
   "cell_type": "code",
   "execution_count": null,
   "metadata": {},
   "outputs": [],
   "source": [
    "y = np.array([1 if i =='dog' else 0 for i in y])"
   ]
  },
  {
   "cell_type": "code",
   "execution_count": 12,
   "metadata": {},
   "outputs": [
    {
     "name": "stdout",
     "output_type": "stream",
     "text": [
      "Model: \"sequential_8\"\n",
      "_________________________________________________________________\n",
      "Layer (type)                 Output Shape              Param #   \n",
      "=================================================================\n",
      "reshape_8 (Reshape)          (None, 48, 256, 1)        0         \n",
      "_________________________________________________________________\n",
      "conv2d_24 (Conv2D)           (None, 46, 254, 32)       320       \n",
      "_________________________________________________________________\n",
      "max_pooling2d_24 (MaxPooling (None, 23, 127, 32)       0         \n",
      "_________________________________________________________________\n",
      "conv2d_25 (Conv2D)           (None, 21, 125, 64)       18496     \n",
      "_________________________________________________________________\n",
      "max_pooling2d_25 (MaxPooling (None, 10, 62, 64)        0         \n",
      "_________________________________________________________________\n",
      "conv2d_26 (Conv2D)           (None, 8, 60, 128)        73856     \n",
      "_________________________________________________________________\n",
      "max_pooling2d_26 (MaxPooling (None, 4, 30, 128)        0         \n",
      "_________________________________________________________________\n",
      "flatten_8 (Flatten)          (None, 15360)             0         \n",
      "_________________________________________________________________\n",
      "dense_16 (Dense)             (None, 50)                768050    \n",
      "_________________________________________________________________\n",
      "dense_17 (Dense)             (None, 2)                 102       \n",
      "=================================================================\n",
      "Total params: 860,824\n",
      "Trainable params: 860,824\n",
      "Non-trainable params: 0\n",
      "_________________________________________________________________\n"
     ]
    }
   ],
   "source": [
    "from tensorflow import keras\n",
    "from tensorflow.keras import models\n",
    "from tensorflow.keras.layers import Conv2D, MaxPooling2D, Flatten, Dense, Reshape\n",
    "\n",
    "model = models.Sequential()\n",
    "\n",
    "# 定义输入层 输入图片为100*100像素\n",
    "model.add(Reshape((48, 256, 1), input_shape=(48, 256)))\n",
    "\n",
    "# 进行三次卷积和池化\n",
    "model.add(Conv2D(filters=32, kernel_size=(3, 3), activation='relu'))\n",
    "model.add(MaxPooling2D(pool_size=(2, 2)))\n",
    "model.add(Conv2D(filters=64, kernel_size=(3, 3), activation='relu'))\n",
    "model.add(MaxPooling2D(pool_size=(2, 2)))\n",
    "model.add(Conv2D(filters=128, kernel_size=(3, 3), activation='relu'))\n",
    "model.add(MaxPooling2D(pool_size=(2, 2)))\n",
    "\n",
    "# 进行flatten\n",
    "model.add(Flatten())\n",
    "\n",
    "# 添加全连接层\n",
    "model.add(Dense(units=50, activation='relu'))\n",
    "\n",
    "# 再添加一层全连接层作为输出层\n",
    "model.add(Dense(units=2, activation='sigmoid'))\n",
    "\n",
    "# model.compile(optimizer='adam', loss='sparse_categorical_crossentropy', metrics=['accuracy'])\n",
    "\n",
    "model.summary()"
   ]
  },
  {
   "cell_type": "code",
   "execution_count": null,
   "metadata": {},
   "outputs": [],
   "source": [
    "# 训练将近一个小时\n",
    "model.fit(x, y, batch_size=50, epochs=10)"
   ]
  },
  {
   "cell_type": "code",
   "execution_count": null,
   "metadata": {},
   "outputs": [],
   "source": [
    "image_path = \"/Users/liuliangjun/PycharmProjects/vance/images/dogAndCat/test/192.jpg\"\n",
    "img=image_preporcess(image_path,(100,100))\n",
    "plt.imshow(img)\n",
    "\n",
    "\n",
    "model.predict_classes(np.expand_dims(img, 0))\n",
    "# 1是狗、0是猫"
   ]
  },
  {
   "cell_type": "code",
   "execution_count": null,
   "metadata": {},
   "outputs": [],
   "source": [
    "# 模型保存，一个小时的成果赶紧保存\n",
    "model.save('cats.h5')"
   ]
  },
  {
   "cell_type": "code",
   "execution_count": 5,
   "metadata": {},
   "outputs": [
    {
     "name": "stdout",
     "output_type": "stream",
     "text": [
      "Model: \"sequential_1\"\n",
      "_________________________________________________________________\n",
      "Layer (type)                 Output Shape              Param #   \n",
      "=================================================================\n",
      "reshape_1 (Reshape)          (None, 100, 100, 1)       0         \n",
      "_________________________________________________________________\n",
      "conv2d_3 (Conv2D)            (None, 98, 98, 64)        640       \n",
      "_________________________________________________________________\n",
      "max_pooling2d_3 (MaxPooling2 (None, 49, 49, 64)        0         \n",
      "_________________________________________________________________\n",
      "conv2d_4 (Conv2D)            (None, 47, 47, 64)        36928     \n",
      "_________________________________________________________________\n",
      "max_pooling2d_4 (MaxPooling2 (None, 23, 23, 64)        0         \n",
      "_________________________________________________________________\n",
      "conv2d_5 (Conv2D)            (None, 21, 21, 128)       73856     \n",
      "_________________________________________________________________\n",
      "max_pooling2d_5 (MaxPooling2 (None, 10, 10, 128)       0         \n",
      "_________________________________________________________________\n",
      "flatten_1 (Flatten)          (None, 12800)             0         \n",
      "_________________________________________________________________\n",
      "dense_2 (Dense)              (None, 50)                640050    \n",
      "_________________________________________________________________\n",
      "dense_3 (Dense)              (None, 2)                 102       \n",
      "=================================================================\n",
      "Total params: 751,576\n",
      "Trainable params: 751,576\n",
      "Non-trainable params: 0\n",
      "_________________________________________________________________\n"
     ]
    }
   ],
   "source": [
    "# 加载保存的模型 \n",
    "!export TF_CPP_MIN_LOG_LEVEL=2  # 屏蔽警告信息\n",
    "\n",
    "new_model = keras.models.load_model('cats.h5')\n",
    "\n",
    "new_model.summary()"
   ]
  },
  {
   "cell_type": "code",
   "execution_count": 15,
   "metadata": {},
   "outputs": [
    {
     "data": {
      "text/plain": [
       "array([0])"
      ]
     },
     "execution_count": 15,
     "metadata": {},
     "output_type": "execute_result"
    },
    {
     "data": {
      "image/png": "[encoded data removed]",
      "text/plain": [
       "<Figure size 432x288 with 1 Axes>"
      ]
     },
     "metadata": {},
     "output_type": "display_data"
    }
   ],
   "source": [
    "image_path = \"/Users/liuliangjun/PycharmProjects/vance/images/dogAndCat/test/189.jpg\"\n",
    "img=image_preporcess(image_path,(100,100))\n",
    "plt.imshow(img)\n",
    "\n",
    "\n",
    "new_model.predict_classes(np.expand_dims(img, 0))"
   ]
  },
  {
   "cell_type": "code",
   "execution_count": null,
   "metadata": {},
   "outputs": [],
   "source": []
  },
  {
   "cell_type": "code",
   "execution_count": null,
   "metadata": {},
   "outputs": [],
   "source": []
  }
 ],
 "metadata": {
  "kernelspec": {
   "display_name": "Python 3",
   "language": "python",
   "name": "python3"
  },
  "language_info": {
   "codemirror_mode": {
    "name": "ipython",
    "version": 3
   },
   "file_extension": ".py",
   "mimetype": "text/x-python",
   "name": "python",
   "nbconvert_exporter": "python",
   "pygments_lexer": "ipython3",
   "version": "3.6.3"
  }
 },
 "nbformat": 4,
 "nbformat_minor": 4
}
