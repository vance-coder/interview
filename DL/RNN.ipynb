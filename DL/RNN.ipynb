{
 "cells": [
  {
   "cell_type": "code",
   "execution_count": 1,
   "metadata": {},
   "outputs": [
    {
     "data": {
      "text/plain": [
       "'1.14.0'"
      ]
     },
     "execution_count": 1,
     "metadata": {},
     "output_type": "execute_result"
    }
   ],
   "source": [
    "import tensorflow as tf\n",
    "from tensorflow import keras\n",
    "import numpy as np\n",
    "from PIL import Image\n",
    "import matplotlib.pyplot as plt\n",
    "\n",
    "\n",
    "tf.__version__"
   ]
  },
  {
   "cell_type": "code",
   "execution_count": 2,
   "metadata": {},
   "outputs": [],
   "source": [
    "mnist = tf.keras.datasets.mnist\n",
    "\n",
    "(x_train, y_train), (x_test, y_test) = mnist.load_data()"
   ]
  },
  {
   "cell_type": "code",
   "execution_count": 17,
   "metadata": {},
   "outputs": [
    {
     "name": "stdout",
     "output_type": "stream",
     "text": [
      "Model: \"sequential_7\"\n",
      "_________________________________________________________________\n",
      "Layer (type)                 Output Shape              Param #   \n",
      "=================================================================\n",
      "rnn (RNN)                    (None, 32)                7808      \n",
      "_________________________________________________________________\n",
      "batch_normalization_1 (Batch (None, 32)                128       \n",
      "_________________________________________________________________\n",
      "dense_3 (Dense)              (None, 10)                330       \n",
      "=================================================================\n",
      "Total params: 8,266\n",
      "Trainable params: 8,202\n",
      "Non-trainable params: 64\n",
      "_________________________________________________________________\n"
     ]
    }
   ],
   "source": [
    "from tensorflow.keras import models\n",
    "from tensorflow.keras.layers import LSTM, Dense, Reshape\n",
    "\n",
    "# https://blog.csdn.net/wo_shanhaiguan/article/details/100674388\n",
    "\n",
    "batch_size = 128\n",
    "timesteps = 28\n",
    "data_dim = 28\n",
    "\n",
    "model = models.Sequential()\n",
    "\n",
    "lstm_layer = tf.keras.layers.RNN(\n",
    "         tf.keras.layers.LSTMCell(32),\n",
    "        input_shape=(None, data_dim))\n",
    "\n",
    "# model.add(LSTM(units=32, return_sequences=True, input_shape=(None, data_dim)))\n",
    "model.add(lstm_layer)\n",
    "# 再添加一层全连接层作为输出层\n",
    "model.add(tf.keras.layers.BatchNormalization())\n",
    "model.add(Dense(units=10, activation='softmax'))\n",
    "\n",
    "model.summary()"
   ]
  },
  {
   "cell_type": "code",
   "execution_count": 18,
   "metadata": {},
   "outputs": [],
   "source": [
    "model.compile(optimizer='adam', loss='sparse_categorical_crossentropy', metrics=['accuracy'])"
   ]
  },
  {
   "cell_type": "code",
   "execution_count": 19,
   "metadata": {},
   "outputs": [
    {
     "name": "stdout",
     "output_type": "stream",
     "text": [
      "Epoch 1/5\n",
      "60000/60000 [==============================] - 43s 715us/sample - loss: 0.9631 - acc: 0.6677\n",
      "Epoch 2/5\n",
      "60000/60000 [==============================] - 42s 706us/sample - loss: 0.5900 - acc: 0.7988\n",
      "Epoch 3/5\n",
      "60000/60000 [==============================] - 40s 669us/sample - loss: 0.5168 - acc: 0.8255\n",
      "Epoch 4/5\n",
      "60000/60000 [==============================] - 41s 689us/sample - loss: 0.4774 - acc: 0.8374\n",
      "Epoch 5/5\n",
      "60000/60000 [==============================] - 39s 649us/sample - loss: 0.4441 - acc: 0.8504\n"
     ]
    },
    {
     "data": {
      "text/plain": [
       "<tensorflow.python.keras.callbacks.History at 0x140412a20>"
      ]
     },
     "execution_count": 19,
     "metadata": {},
     "output_type": "execute_result"
    }
   ],
   "source": [
    "model.fit(x_train, y_train, batch_size=32, epochs=5)"
   ]
  },
  {
   "cell_type": "code",
   "execution_count": null,
   "metadata": {},
   "outputs": [],
   "source": []
  }
 ],
 "metadata": {
  "kernelspec": {
   "display_name": "Python 3",
   "language": "python",
   "name": "python3"
  },
  "language_info": {
   "codemirror_mode": {
    "name": "ipython",
    "version": 3
   },
   "file_extension": ".py",
   "mimetype": "text/x-python",
   "name": "python",
   "nbconvert_exporter": "python",
   "pygments_lexer": "ipython3",
   "version": "3.6.3"
  }
 },
 "nbformat": 4,
 "nbformat_minor": 4
}
