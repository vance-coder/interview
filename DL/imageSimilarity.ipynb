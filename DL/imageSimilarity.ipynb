{
 "cells": [
  {
   "cell_type": "markdown",
   "metadata": {},
   "source": [
    "#### 计算两张图片之间的相似度\n",
    "\n",
    "原理：利用VGG16网络抽像出来的特征做相似度比较。提一下，这里用到的特征是指block5_pool层所抽象的特征，也即是最后一个池化层。在keras提供的VGG16网络api中很容易做到这一点，只需要在初始化VGG16网络的时候设置include_top=False，就能丢弃掉最后的全连接层，最后的输出层便是最后一个池化层。"
   ]
  },
  {
   "cell_type": "code",
   "execution_count": 7,
   "metadata": {},
   "outputs": [],
   "source": [
    "import numpy as np\n",
    "from keras.applications.vgg16 import VGG16, preprocess_input\n",
    "from keras.preprocessing import image\n",
    "\n",
    "\n",
    "import ssl\n",
    "ssl._create_default_https_context = ssl._create_unverified_context # 下载模型的时候不想进行ssl证书校验\n",
    "\n",
    "!export TF_CPP_MIN_LOG_LEVEL=2  # 屏蔽警告信息 （这是在jupyter中执行的shell命令，可以去掉这行不影响结果）\n",
    "\n",
    "# 初始化VGG16模型 include_top=False 是指不保留顶层的3个全连接网络层\n",
    "model = VGG16(weights='imagenet', include_top=False)\n",
    "\n",
    "def get_feature(path):\n",
    "    \"\"\"\n",
    "    VGG16模型抽取图片特征\n",
    "    \"\"\"\n",
    "    # 图片转成PIL的Image对象，并且对图片做了缩放\n",
    "    img = image.load_img(path, target_size=(224, 224))\n",
    "\n",
    "    # 图片转成矩阵、并扩充了维度、最后是预处理\n",
    "    predict_img = preprocess_input(np.expand_dims(image.img_to_array(img),0))\n",
    "\n",
    "    # 丢入vgg16网络做特征抽取，最后返回特征并展平成一维向量方便计算余弦相似度\n",
    "    return model.predict(predict_img).flatten()\n",
    "\n",
    "def cos_sim(a, b):\n",
    "    \"\"\"\n",
    "    计算两个向量之间的余弦相似度\n",
    "    \"\"\"\n",
    "    a = np.mat(a)\n",
    "    b = np.mat(b)\n",
    "    return float(a * b.T) / (np.linalg.norm(a) * np.linalg.norm(b))"
   ]
  },
  {
   "cell_type": "code",
   "execution_count": 9,
   "metadata": {},
   "outputs": [],
   "source": [
    "image_path = ['/Users/liuliangjun/Downloads/1.jpg', '/Users/liuliangjun/Downloads/2.jpg', '/Users/liuliangjun/Downloads/3.jpg']\n",
    "ft1, ft2, ft3 = [get_feature(p) for p in image_path]"
   ]
  },
  {
   "cell_type": "code",
   "execution_count": 11,
   "metadata": {},
   "outputs": [
    {
     "data": {
      "text/plain": [
       "0.9247887575725511"
      ]
     },
     "execution_count": 11,
     "metadata": {},
     "output_type": "execute_result"
    }
   ],
   "source": [
    "# 图1、图2相似度\n",
    "cos_sim(ft1, ft2)"
   ]
  },
  {
   "cell_type": "code",
   "execution_count": 12,
   "metadata": {},
   "outputs": [
    {
     "data": {
      "text/plain": [
       "0.9832494987242002"
      ]
     },
     "execution_count": 12,
     "metadata": {},
     "output_type": "execute_result"
    }
   ],
   "source": [
    "# 图2、图3相似度\n",
    "cos_sim(ft2, ft3)"
   ]
  },
  {
   "cell_type": "code",
   "execution_count": 13,
   "metadata": {},
   "outputs": [
    {
     "data": {
      "text/plain": [
       "0.9130592505927942"
      ]
     },
     "execution_count": 13,
     "metadata": {},
     "output_type": "execute_result"
    }
   ],
   "source": [
    "# 图1、图3相似度\n",
    "cos_sim(ft1, ft3)"
   ]
  },
  {
   "cell_type": "code",
   "execution_count": null,
   "metadata": {},
   "outputs": [],
   "source": []
  }
 ],
 "metadata": {
  "kernelspec": {
   "display_name": "Python 3",
   "language": "python",
   "name": "python3"
  },
  "language_info": {
   "codemirror_mode": {
    "name": "ipython",
    "version": 3
   },
   "file_extension": ".py",
   "mimetype": "text/x-python",
   "name": "python",
   "nbconvert_exporter": "python",
   "pygments_lexer": "ipython3",
   "version": "3.6.3"
  }
 },
 "nbformat": 4,
 "nbformat_minor": 4
}
