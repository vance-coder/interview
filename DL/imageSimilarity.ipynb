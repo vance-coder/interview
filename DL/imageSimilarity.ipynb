{
 "cells": [
  {
   "cell_type": "markdown",
   "metadata": {},
   "source": [
    "#### 计算两张图片之间的相似度\n",
    "\n",
    "原理：利用VGG16网络抽像出来的特征做相似度比较。提一下，这里用到的特征是指block5_pool层所抽象的特征，也即是最后一个池化层。在keras提供的VGG16网络api中很容易做到这一点，只需要在初始化VGG16网络的时候设置include_top=False，就能丢弃掉最后的全连接层，最后的输出层便是最后一个池化层。"
   ]
  },
  {
   "cell_type": "code",
   "execution_count": 9,
   "metadata": {},
   "outputs": [
    {
     "name": "stderr",
     "output_type": "stream",
     "text": [
      "Using TensorFlow backend.\n"
     ]
    },
    {
     "name": "stdout",
     "output_type": "stream",
     "text": [
      "WARNING:tensorflow:From /Library/Frameworks/Python.framework/Versions/3.6/lib/python3.6/site-packages/keras/backend/tensorflow_backend.py:4070: The name tf.nn.max_pool is deprecated. Please use tf.nn.max_pool2d instead.\n",
      "\n"
     ]
    }
   ],
   "source": [
    "import numpy as np\n",
    "from keras.applications.vgg16 import VGG16, preprocess_input\n",
    "from keras.preprocessing import image\n",
    "\n",
    "\n",
    "import ssl\n",
    "ssl._create_default_https_context = ssl._create_unverified_context # 下载模型的时候不想进行ssl证书校验\n",
    "\n",
    "!export TF_CPP_MIN_LOG_LEVEL=2  # 屏蔽警告信息 （这是在jupyter中执行的shell命令，可以去掉这行不影响结果）\n",
    "\n",
    "# 初始化VGG16模型 include_top=False 是指不保留顶层的3个全连接网络层\n",
    "model = VGG16(weights='imagenet', include_top=False)\n",
    "\n",
    "def get_feature(path):\n",
    "    \"\"\"\n",
    "    VGG16模型抽取图片特征\n",
    "    \"\"\"\n",
    "    # 图片转成PIL的Image对象，并且对图片做了缩放\n",
    "    img = image.load_img(path, target_size=(224, 224))\n",
    "\n",
    "    # 图片转成矩阵、并扩充了维度、最后是预处理\n",
    "    predict_img = preprocess_input(np.expand_dims(image.img_to_array(img),0))\n",
    "\n",
    "    # 丢入vgg16网络做特征抽取，最后返回特征并展平成一维向量方便计算余弦相似度\n",
    "    return model.predict(predict_img).flatten()\n",
    "\n",
    "def cos_sim(a, b):\n",
    "    \"\"\"\n",
    "    计算两个向量之间的余弦相似度\n",
    "    \"\"\"\n",
    "    a = np.mat(a)\n",
    "    b = np.mat(b)\n",
    "    return float(a * b.T) / (np.linalg.norm(a) * np.linalg.norm(b))"
   ]
  },
  {
   "cell_type": "code",
   "execution_count": 19,
   "metadata": {},
   "outputs": [
    {
     "name": "stdout",
     "output_type": "stream",
     "text": [
      "WARNING:tensorflow:From /Library/Frameworks/Python.framework/Versions/3.6/lib/python3.6/site-packages/keras/backend/tensorflow_backend.py:422: The name tf.global_variables is deprecated. Please use tf.compat.v1.global_variables instead.\n",
      "\n"
     ]
    },
    {
     "name": "stderr",
     "output_type": "stream",
     "text": [
      "WARNING:tensorflow:From /Library/Frameworks/Python.framework/Versions/3.6/lib/python3.6/site-packages/keras/backend/tensorflow_backend.py:422: The name tf.global_variables is deprecated. Please use tf.compat.v1.global_variables instead.\n",
      "\n"
     ]
    }
   ],
   "source": [
    "image_path = ['/Users/liuliangjun/Downloads/1.jpg', '/Users/liuliangjun/Downloads/2.jpg', '/Users/liuliangjun/Downloads/3.jpg']\n",
    "ft1, ft2, ft3 = [get_feature(p) for p in image_path]"
   ]
  },
  {
   "cell_type": "code",
   "execution_count": 20,
   "metadata": {},
   "outputs": [
    {
     "data": {
      "text/plain": [
       "0.9247887575725511"
      ]
     },
     "execution_count": 20,
     "metadata": {},
     "output_type": "execute_result"
    }
   ],
   "source": [
    "# 图1、图2相似度\n",
    "cos_sim(ft1, ft2)"
   ]
  },
  {
   "cell_type": "code",
   "execution_count": 21,
   "metadata": {},
   "outputs": [
    {
     "data": {
      "text/plain": [
       "0.9832494987242002"
      ]
     },
     "execution_count": 21,
     "metadata": {},
     "output_type": "execute_result"
    }
   ],
   "source": [
    "# 图2、图3相似度\n",
    "cos_sim(ft2, ft3)"
   ]
  },
  {
   "cell_type": "code",
   "execution_count": 22,
   "metadata": {},
   "outputs": [
    {
     "data": {
      "text/plain": [
       "0.9130592505927942"
      ]
     },
     "execution_count": 22,
     "metadata": {},
     "output_type": "execute_result"
    }
   ],
   "source": [
    "# 图1、图3相似度\n",
    "cos_sim(ft1, ft3)"
   ]
  },
  {
   "cell_type": "code",
   "execution_count": null,
   "metadata": {},
   "outputs": [],
   "source": []
  },
  {
   "cell_type": "code",
   "execution_count": null,
   "metadata": {},
   "outputs": [],
   "source": [
    "# 找出最相似的一组图片\n",
    "from glob import glob\n",
    "from itertools import combinations\n",
    "\n",
    "image_path = '/Users/liuliangjun/PycharmProjects/vance/images/dogAndCat/train/cat.*'\n",
    "\n",
    "max_sim = 0\n",
    "p1 = p2 = None\n",
    "\n",
    "for i,j in combinations(glob(image_path)[:5], 2):\n",
    "    sim = cos_sim(get_feature(i), get_feature(j))\n",
    "    if max_sim < sim:\n",
    "        max_sim = sim\n",
    "        p1, p2 = i, j\n",
    "        \n",
    "print(max_sim, p1, p2)"
   ]
  },
  {
   "cell_type": "code",
   "execution_count": null,
   "metadata": {},
   "outputs": [],
   "source": [
    "image.load_img(p1, target_size=(224, 224))"
   ]
  },
  {
   "cell_type": "code",
   "execution_count": null,
   "metadata": {},
   "outputs": [],
   "source": [
    "image.load_img(p2, target_size=(224, 224))"
   ]
  },
  {
   "cell_type": "markdown",
   "metadata": {},
   "source": [
    "#### 尝试用自己构造的CNN网络抽取特征\n",
    "\n",
    "不训练直接根据特征计算相似度、也能比较出来、但是相似度不对"
   ]
  },
  {
   "cell_type": "code",
   "execution_count": 13,
   "metadata": {},
   "outputs": [
    {
     "name": "stdout",
     "output_type": "stream",
     "text": [
      "WARNING:tensorflow:From /Library/Frameworks/Python.framework/Versions/3.6/lib/python3.6/site-packages/tensorflow/python/ops/init_ops.py:97: calling GlorotUniform.__init__ (from tensorflow.python.ops.init_ops) with dtype is deprecated and will be removed in a future version.\n",
      "Instructions for updating:\n",
      "Call initializer instance with the dtype argument instead of passing it to the constructor\n",
      "WARNING:tensorflow:From /Library/Frameworks/Python.framework/Versions/3.6/lib/python3.6/site-packages/tensorflow/python/ops/init_ops.py:97: calling Zeros.__init__ (from tensorflow.python.ops.init_ops) with dtype is deprecated and will be removed in a future version.\n",
      "Instructions for updating:\n",
      "Call initializer instance with the dtype argument instead of passing it to the constructor\n",
      "WARNING:tensorflow:From /Library/Frameworks/Python.framework/Versions/3.6/lib/python3.6/site-packages/tensorflow/python/ops/math_grad.py:1250: add_dispatch_support.<locals>.wrapper (from tensorflow.python.ops.array_ops) is deprecated and will be removed in a future version.\n",
      "Instructions for updating:\n",
      "Use tf.where in 2.0, which has the same broadcast rule as np.where\n",
      "Model: \"sequential_1\"\n",
      "_________________________________________________________________\n",
      "Layer (type)                 Output Shape              Param #   \n",
      "=================================================================\n",
      "reshape_1 (Reshape)          (None, 100, 100, 1)       0         \n",
      "_________________________________________________________________\n",
      "conv2d_3 (Conv2D)            (None, 98, 98, 64)        640       \n",
      "_________________________________________________________________\n",
      "max_pooling2d_3 (MaxPooling2 (None, 49, 49, 64)        0         \n",
      "_________________________________________________________________\n",
      "conv2d_4 (Conv2D)            (None, 47, 47, 64)        36928     \n",
      "_________________________________________________________________\n",
      "max_pooling2d_4 (MaxPooling2 (None, 23, 23, 64)        0         \n",
      "_________________________________________________________________\n",
      "conv2d_5 (Conv2D)            (None, 21, 21, 128)       73856     \n",
      "_________________________________________________________________\n",
      "max_pooling2d_5 (MaxPooling2 (None, 10, 10, 128)       0         \n",
      "_________________________________________________________________\n",
      "flatten_1 (Flatten)          (None, 12800)             0         \n",
      "_________________________________________________________________\n",
      "dense_2 (Dense)              (None, 50)                640050    \n",
      "_________________________________________________________________\n",
      "dense_3 (Dense)              (None, 2)                 102       \n",
      "=================================================================\n",
      "Total params: 751,576\n",
      "Trainable params: 751,576\n",
      "Non-trainable params: 0\n",
      "_________________________________________________________________\n"
     ]
    }
   ],
   "source": [
    "new_model = keras.models.load_model('cats.h5')\n",
    "\n",
    "new_model.summary()"
   ]
  },
  {
   "cell_type": "code",
   "execution_count": null,
   "metadata": {},
   "outputs": [],
   "source": []
  },
  {
   "cell_type": "code",
   "execution_count": 2,
   "metadata": {},
   "outputs": [],
   "source": [
    "import cv2\n",
    "import numpy as np\n",
    "import matplotlib.pyplot as plt\n",
    "from PIL import Image\n",
    "\n",
    "\n",
    "def image_preporcess(img_path, target_size):\n",
    "    # 以灰度图的形式读入图片\n",
    "    image = cv2.imread(img_path, 0)\n",
    "    \n",
    "    # resize 尺寸\n",
    "    ih, iw = target_size\n",
    "    # 原始图片尺寸\n",
    "    h,  w = image.shape\n",
    "\n",
    "    # 计算缩放后图片尺寸\n",
    "    scale = min(iw/w, ih/h)\n",
    "    nw, nh = int(scale * w), int(scale * h)\n",
    "    image_resized = cv2.resize(image, (nw, nh))\n",
    "\n",
    "    # 创建一张画布，画布的尺寸就是目标尺寸\n",
    "    # fill_value=120为灰色画布\n",
    "    image_paded = np.full(shape=[ih, iw], fill_value=120)\n",
    "    dw, dh = (iw - nw) // 2, (ih-nh) // 2\n",
    "\n",
    "    # 将缩放后的图片放在画布中央\n",
    "    image_paded[dh:nh+dh, dw:nw+dw] = image_resized\n",
    "    \n",
    "    # 归一化处理\n",
    "    image_paded = image_paded / 255.\n",
    "\n",
    "    return image_paded\n",
    "\n",
    "if __name__==\"__main__\":\n",
    "    # TODO cv2.imread(image_path, 0) 读取灰度图像\n",
    "    image_path = \"/Users/liuliangjun/PycharmProjects/vance/images/dogAndCat/train/cat.0.jpg\"\n",
    "    img=image_preporcess(image_path,(100,100))\n",
    "    plt.imshow(img)"
   ]
  },
  {
   "cell_type": "code",
   "execution_count": 14,
   "metadata": {},
   "outputs": [],
   "source": [
    "image_path = ['/Users/liuliangjun/Downloads/1.jpg', '/Users/liuliangjun/Downloads/2.jpg', '/Users/liuliangjun/Downloads/3.jpg']\n",
    "img = image_preporcess(image_path[0], (100, 100))\n",
    "\n",
    "# 图片转成矩阵、并扩充了维度、最后是预处理\n",
    "predict_img = np.expand_dims(img,0)\n",
    "ft1 = new_model.predict(predict_img)"
   ]
  },
  {
   "cell_type": "code",
   "execution_count": 18,
   "metadata": {},
   "outputs": [
    {
     "name": "stdout",
     "output_type": "stream",
     "text": [
      "Help on method predict in module tensorflow.python.keras.engine.training:\n",
      "\n",
      "predict(x, batch_size=None, verbose=0, steps=None, callbacks=None, max_queue_size=10, workers=1, use_multiprocessing=False) method of tensorflow.python.keras.engine.sequential.Sequential instance\n",
      "    Generates output predictions for the input samples.\n",
      "    \n",
      "    Computation is done in batches.\n",
      "    \n",
      "    Arguments:\n",
      "        x: Input samples. It could be:\n",
      "          - A Numpy array (or array-like), or a list of arrays\n",
      "            (in case the model has multiple inputs).\n",
      "          - A TensorFlow tensor, or a list of tensors\n",
      "            (in case the model has multiple inputs).\n",
      "          - A `tf.data` dataset or a dataset iterator.\n",
      "          - A generator or `keras.utils.Sequence` instance.\n",
      "        batch_size: Integer or `None`.\n",
      "            Number of samples per gradient update.\n",
      "            If unspecified, `batch_size` will default to 32.\n",
      "            Do not specify the `batch_size` is your data is in the\n",
      "            form of symbolic tensors, dataset, dataset iterators,\n",
      "            generators, or `keras.utils.Sequence` instances (since they generate\n",
      "            batches).\n",
      "        verbose: Verbosity mode, 0 or 1.\n",
      "        steps: Total number of steps (batches of samples)\n",
      "            before declaring the prediction round finished.\n",
      "            Ignored with the default value of `None`. If x is a `tf.data`\n",
      "            dataset or a dataset iterator, and `steps` is None, `predict` will\n",
      "            run until the input dataset is exhausted.\n",
      "        callbacks: List of `keras.callbacks.Callback` instances.\n",
      "            List of callbacks to apply during prediction.\n",
      "            See [callbacks](/api_docs/python/tf/keras/callbacks).\n",
      "        max_queue_size: Integer. Used for generator or `keras.utils.Sequence`\n",
      "            input only. Maximum size for the generator queue.\n",
      "            If unspecified, `max_queue_size` will default to 10.\n",
      "        workers: Integer. Used for generator or `keras.utils.Sequence` input\n",
      "            only. Maximum number of processes to spin up when using\n",
      "            process-based threading. If unspecified, `workers` will default\n",
      "            to 1. If 0, will execute the generator on the main thread.\n",
      "        use_multiprocessing: Boolean. Used for generator or\n",
      "            `keras.utils.Sequence` input only. If `True`, use process-based\n",
      "            threading. If unspecified, `use_multiprocessing` will default to\n",
      "            `False`. Note that because this implementation relies on\n",
      "            multiprocessing, you should not pass non-picklable arguments to\n",
      "            the generator as they can't be passed easily to children processes.\n",
      "    \n",
      "    \n",
      "    Returns:\n",
      "        Numpy array(s) of predictions.\n",
      "    \n",
      "    Raises:\n",
      "        ValueError: In case of mismatch between the provided\n",
      "            input data and the model's expectations,\n",
      "            or in case a stateful model receives a number of samples\n",
      "            that is not a multiple of the batch size.\n",
      "\n"
     ]
    }
   ],
   "source": [
    "help(new_model.predict)"
   ]
  },
  {
   "cell_type": "code",
   "execution_count": null,
   "metadata": {},
   "outputs": [],
   "source": []
  }
 ],
 "metadata": {
  "kernelspec": {
   "display_name": "Python 3",
   "language": "python",
   "name": "python3"
  },
  "language_info": {
   "codemirror_mode": {
    "name": "ipython",
    "version": 3
   },
   "file_extension": ".py",
   "mimetype": "text/x-python",
   "name": "python",
   "nbconvert_exporter": "python",
   "pygments_lexer": "ipython3",
   "version": "3.6.3"
  }
 },
 "nbformat": 4,
 "nbformat_minor": 4
}
