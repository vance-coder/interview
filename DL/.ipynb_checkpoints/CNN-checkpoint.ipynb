{
 "cells": [
  {
   "cell_type": "code",
   "execution_count": 2,
   "metadata": {},
   "outputs": [],
   "source": [
    "import cv2\n",
    "import numpy as np\n",
    "import matplotlib.pyplot as plt\n",
    "from PIL import Image\n",
    "\n",
    "\n",
    "def image_preporcess(image, target_size):\n",
    "\n",
    "    # resize 尺寸\n",
    "    ih, iw = target_size\n",
    "    # 原始图片尺寸\n",
    "    h,  w = image.shape\n",
    "\n",
    "    # 计算缩放后图片尺寸\n",
    "    scale = min(iw/w, ih/h)\n",
    "    nw, nh = int(scale * w), int(scale * h)\n",
    "    image_resized = cv2.resize(image, (nw, nh))\n",
    "\n",
    "    # 创建一张画布，画布的尺寸就是目标尺寸\n",
    "    # fill_value=120为灰色画布\n",
    "    image_paded = np.full(shape=[ih, iw], fill_value=120)\n",
    "    dw, dh = (iw - nw) // 2, (ih-nh) // 2\n",
    "\n",
    "    # 将缩放后的图片放在画布中央\n",
    "    image_paded[dh:nh+dh, dw:nw+dw] = image_resized\n",
    "    \n",
    "#     # 将图片转为灰度图\n",
    "#     img_gray = cv2.cvtColor(image_paded,cv2.COLOR_RGB2GRAY)\n",
    "    \n",
    "    # 归一化处理\n",
    "    image_paded = image_paded / 255.\n",
    "\n",
    "    return image_paded\n",
    "\n",
    "if __name__==\"__main__\":\n",
    "    # TODO cv2.imread(image_path, 0) 读取灰度图像\n",
    "    image_path = \"/Users/liuliangjun/PycharmProjects/vance/images/girls/002_1.png\"\n",
    "    image = cv2.imread(image_path, 0)\n",
    "    img=image_preporcess(image,(100,100))\n",
    "\n",
    "    plt.imshow(img)\n"
   ]
  },
  {
   "cell_type": "code",
   "execution_count": 103,
   "metadata": {},
   "outputs": [],
   "source": [
    "from glob import glob\n",
    "image_path = '/Users/liuliangjun/PycharmProjects/vance/images/girls/*'\n",
    "\n",
    "x = []\n",
    "y = []\n",
    "for i in glob(image_path):\n",
    "    y.append(int(i.split('_')[1][0]))\n",
    "    \n",
    "    image = cv2.imread(i, 0)\n",
    "    x.append(image_preporcess(image,(100,100)))\n"
   ]
  },
  {
   "cell_type": "code",
   "execution_count": 104,
   "metadata": {},
   "outputs": [],
   "source": [
    "x = np.array(x)"
   ]
  },
  {
   "cell_type": "code",
   "execution_count": 105,
   "metadata": {},
   "outputs": [],
   "source": [
    "y = np.array(y)"
   ]
  },
  {
   "cell_type": "code",
   "execution_count": 106,
   "metadata": {},
   "outputs": [
    {
     "data": {
      "text/plain": [
       "(42, 100, 100)"
      ]
     },
     "execution_count": 106,
     "metadata": {},
     "output_type": "execute_result"
    }
   ],
   "source": [
    "x.shape"
   ]
  },
  {
   "cell_type": "code",
   "execution_count": 107,
   "metadata": {},
   "outputs": [
    {
     "data": {
      "text/plain": [
       "array([0, 1, 1, 1, 1, 1, 1, 0, 1, 1, 1, 1, 0, 0, 0, 1, 1, 0, 0, 1, 1, 0,\n",
       "       0, 1, 1, 0, 1, 0, 1, 1, 1, 1, 0, 0, 0, 0, 1, 0, 0, 1, 1, 1])"
      ]
     },
     "execution_count": 107,
     "metadata": {},
     "output_type": "execute_result"
    }
   ],
   "source": [
    "y"
   ]
  },
  {
   "cell_type": "code",
   "execution_count": 108,
   "metadata": {},
   "outputs": [],
   "source": [
    "##### import tensorflow as tf\n",
    "from tensorflow import keras\n",
    "from tensorflow.keras import models\n",
    "from tensorflow.keras.layers import Conv2D, MaxPooling2D, Flatten, Dense, Reshape\n",
    "\n",
    "model = models.Sequential()\n",
    "\n",
    "# 定义输入层\n",
    "model.add(Reshape((100, 100, 1), input_shape=(100, 100)))\n",
    "\n",
    "# 添加一层卷积层, 卷积层设置多少个filters就会有多少个输出\n",
    "model.add(Conv2D(filters=64, kernel_size=(3, 3), activation='relu'))\n",
    "\n",
    "# 添加一层池化层\n",
    "model.add(MaxPooling2D(pool_size=(2, 2)))\n",
    "\n",
    "# 再添加一层卷积层\n",
    "model.add(Conv2D(filters=64, kernel_size=(3, 3), activation='relu'))\n",
    "\n",
    "# 再添加一层池化层\n",
    "model.add(MaxPooling2D(pool_size=(2, 2)))\n",
    "\n",
    "# 再添加一层卷积层\n",
    "model.add(Conv2D(filters=128, kernel_size=(3, 3), activation='relu'))\n",
    "\n",
    "# 再添加一层池化层\n",
    "model.add(MaxPooling2D(pool_size=(2, 2)))\n",
    "\n",
    "# 进行flatten\n",
    "model.add(Flatten())\n",
    "\n",
    "# 添加全连接层\n",
    "model.add(Dense(units=50, activation='relu'))\n",
    "\n",
    "# 再添加一层全连接层作为输出层\n",
    "model.add(Dense(units=2, activation='sigmoid'))"
   ]
  },
  {
   "cell_type": "code",
   "execution_count": null,
   "metadata": {},
   "outputs": [],
   "source": []
  },
  {
   "cell_type": "code",
   "execution_count": 109,
   "metadata": {},
   "outputs": [
    {
     "name": "stdout",
     "output_type": "stream",
     "text": [
      "Model: \"sequential_10\"\n",
      "_________________________________________________________________\n",
      "Layer (type)                 Output Shape              Param #   \n",
      "=================================================================\n",
      "reshape_10 (Reshape)         (None, 100, 100, 1)       0         \n",
      "_________________________________________________________________\n",
      "conv2d_28 (Conv2D)           (None, 98, 98, 64)        640       \n",
      "_________________________________________________________________\n",
      "max_pooling2d_27 (MaxPooling (None, 49, 49, 64)        0         \n",
      "_________________________________________________________________\n",
      "conv2d_29 (Conv2D)           (None, 47, 47, 64)        36928     \n",
      "_________________________________________________________________\n",
      "max_pooling2d_28 (MaxPooling (None, 23, 23, 64)        0         \n",
      "_________________________________________________________________\n",
      "conv2d_30 (Conv2D)           (None, 21, 21, 128)       73856     \n",
      "_________________________________________________________________\n",
      "max_pooling2d_29 (MaxPooling (None, 10, 10, 128)       0         \n",
      "_________________________________________________________________\n",
      "flatten_6 (Flatten)          (None, 12800)             0         \n",
      "_________________________________________________________________\n",
      "dense_10 (Dense)             (None, 50)                640050    \n",
      "_________________________________________________________________\n",
      "dense_11 (Dense)             (None, 2)                 102       \n",
      "=================================================================\n",
      "Total params: 751,576\n",
      "Trainable params: 751,576\n",
      "Non-trainable params: 0\n",
      "_________________________________________________________________\n"
     ]
    }
   ],
   "source": [
    "model.summary()"
   ]
  },
  {
   "cell_type": "code",
   "execution_count": 110,
   "metadata": {},
   "outputs": [],
   "source": [
    "model.compile(optimizer='adam', loss='sparse_categorical_crossentropy', metrics=['accuracy'])"
   ]
  },
  {
   "cell_type": "code",
   "execution_count": 111,
   "metadata": {},
   "outputs": [
    {
     "name": "stdout",
     "output_type": "stream",
     "text": [
      "Train on 42 samples\n",
      "Epoch 1/20\n",
      "42/42 [==============================] - 1s 32ms/sample - loss: 0.6984 - accuracy: 0.4762\n",
      "Epoch 2/20\n",
      "42/42 [==============================] - 1s 20ms/sample - loss: 0.6771 - accuracy: 0.5952\n",
      "Epoch 3/20\n",
      "42/42 [==============================] - 1s 19ms/sample - loss: 0.6786 - accuracy: 0.5952\n",
      "Epoch 4/20\n",
      "42/42 [==============================] - 1s 17ms/sample - loss: 0.6706 - accuracy: 0.5952\n",
      "Epoch 5/20\n",
      "42/42 [==============================] - 1s 16ms/sample - loss: 0.6452 - accuracy: 0.5952\n",
      "Epoch 6/20\n",
      "42/42 [==============================] - 1s 17ms/sample - loss: 0.6335 - accuracy: 0.7143\n",
      "Epoch 7/20\n",
      "42/42 [==============================] - 1s 17ms/sample - loss: 0.6649 - accuracy: 0.5714\n",
      "Epoch 8/20\n",
      "42/42 [==============================] - 1s 18ms/sample - loss: 0.5340 - accuracy: 0.7381\n",
      "Epoch 9/20\n",
      "42/42 [==============================] - 1s 18ms/sample - loss: 0.5046 - accuracy: 0.8095\n",
      "Epoch 10/20\n",
      "42/42 [==============================] - 1s 17ms/sample - loss: 0.3986 - accuracy: 0.8095\n",
      "Epoch 11/20\n",
      "42/42 [==============================] - 1s 16ms/sample - loss: 0.3105 - accuracy: 0.8571\n",
      "Epoch 12/20\n",
      "42/42 [==============================] - 1s 16ms/sample - loss: 0.2006 - accuracy: 0.8810\n",
      "Epoch 13/20\n",
      "42/42 [==============================] - 1s 17ms/sample - loss: 0.0530 - accuracy: 1.0000\n",
      "Epoch 14/20\n",
      "42/42 [==============================] - 1s 18ms/sample - loss: 0.0143 - accuracy: 1.0000\n",
      "Epoch 15/20\n",
      "42/42 [==============================] - 1s 17ms/sample - loss: 0.0044 - accuracy: 1.0000\n",
      "Epoch 16/20\n",
      "42/42 [==============================] - 1s 17ms/sample - loss: 0.0023 - accuracy: 1.0000\n",
      "Epoch 17/20\n",
      "42/42 [==============================] - 1s 18ms/sample - loss: 0.0013 - accuracy: 1.0000\n",
      "Epoch 18/20\n",
      "42/42 [==============================] - 1s 17ms/sample - loss: 9.3084e-04 - accuracy: 1.0000\n",
      "Epoch 19/20\n",
      "42/42 [==============================] - 1s 17ms/sample - loss: 7.5494e-04 - accuracy: 1.0000\n",
      "Epoch 20/20\n",
      "42/42 [==============================] - 1s 17ms/sample - loss: 6.1319e-04 - accuracy: 1.0000\n"
     ]
    },
    {
     "data": {
      "text/plain": [
       "<tensorflow.python.keras.callbacks.History at 0x14f85e278>"
      ]
     },
     "execution_count": 111,
     "metadata": {},
     "output_type": "execute_result"
    }
   ],
   "source": [
    "model.fit(x, y, batch_size=4, epochs=20)"
   ]
  },
  {
   "cell_type": "code",
   "execution_count": 80,
   "metadata": {},
   "outputs": [
    {
     "data": {
      "text/plain": [
       "(100, 100)"
      ]
     },
     "execution_count": 80,
     "metadata": {},
     "output_type": "execute_result"
    }
   ],
   "source": [
    "img.shape"
   ]
  },
  {
   "cell_type": "code",
   "execution_count": 118,
   "metadata": {},
   "outputs": [
    {
     "data": {
      "text/plain": [
       "<matplotlib.image.AxesImage at 0x1532a51d0>"
      ]
     },
     "execution_count": 118,
     "metadata": {},
     "output_type": "execute_result"
    },
    {
     "data": {
      "image/png": "[encoded data removed]",
      "text/plain": [
       "<Figure size 432x288 with 1 Axes>"
      ]
     },
     "metadata": {},
     "output_type": "display_data"
    }
   ],
   "source": [
    "img_path = '/Users/liuliangjun/PycharmProjects/vance/images/girls/test005_1.png'\n",
    "image = cv2.imread(img_path, 0)\n",
    "img = image_preporcess(image,(100,100))\n",
    "plt.imshow(img)"
   ]
  },
  {
   "cell_type": "code",
   "execution_count": null,
   "metadata": {},
   "outputs": [],
   "source": [
    "# img.reshape(1, 100, 100)\n",
    "# or \n",
    "# np.expand_dims(img,0)"
   ]
  },
  {
   "cell_type": "code",
   "execution_count": 101,
   "metadata": {},
   "outputs": [
    {
     "data": {
      "text/plain": [
       "array([[2.4635747e-06, 7.8915602e-01]], dtype=float32)"
      ]
     },
     "execution_count": 101,
     "metadata": {},
     "output_type": "execute_result"
    }
   ],
   "source": [
    "# 返回值是数值，表示样本属于每一个类别的概率\n",
    "model.predict(np.expand_dims(img,0))"
   ]
  },
  {
   "cell_type": "code",
   "execution_count": 119,
   "metadata": {},
   "outputs": [
    {
     "data": {
      "text/plain": [
       "array([1])"
      ]
     },
     "execution_count": 119,
     "metadata": {},
     "output_type": "execute_result"
    }
   ],
   "source": [
    "# 返回的是类别的索引，即该样本所属的类别标签。\n",
    "model.predict_classes(np.expand_dims(img,0))"
   ]
  },
  {
   "cell_type": "code",
   "execution_count": 122,
   "metadata": {},
   "outputs": [
    {
     "data": {
      "text/plain": [
       "<matplotlib.image.AxesImage at 0x153c39828>"
      ]
     },
     "execution_count": 122,
     "metadata": {},
     "output_type": "execute_result"
    },
    {
     "data": {
      "image/png": "[encoded data removed]",
      "text/plain": [
       "<Figure size 432x288 with 1 Axes>"
      ]
     },
     "metadata": {},
     "output_type": "display_data"
    }
   ],
   "source": [
    "from sklearn.model_selection import train_test_split\n",
    "# 用VGG16学习的特征来计算余弦相似性？\n",
    "from keras.preprocessing import image\n",
    "# ImageDataGenerator\n",
    "# 图像增强 避免过拟合\n",
    "\n",
    "# 从VGG16 抽取特征  https://keras-cn.readthedocs.io/en/latest/other/application/\n",
    "\n",
    "from keras.preprocessing import image\n",
    "img = image.load_img(img_path, target_size=(100, 100)) # 这个resize 会导致扭曲"
   ]
  },
  {
   "cell_type": "code",
   "execution_count": 19,
   "metadata": {},
   "outputs": [],
   "source": [
    "from keras.applications.vgg16 import VGG16, preprocess_input\n",
    "from keras.preprocessing import image\n",
    "import ssl\n",
    "ssl._create_default_https_context = ssl._create_unverified_context\n",
    "\n",
    "!export TF_CPP_MIN_LOG_LEVEL=2  # 屏蔽警告信息\n",
    "\n",
    "image_path = \"/Users/liuliangjun/Downloads/3.jpg\"\n",
    "img = image.load_img(image_path, target_size=(224, 224))\n",
    "\n",
    "model = VGG16(weights='imagenet', include_top=False)\n",
    "\n",
    "feature3 = model.predict(preprocess_input(np.expand_dims(image.img_to_array(img),0)))"
   ]
  },
  {
   "cell_type": "code",
   "execution_count": null,
   "metadata": {},
   "outputs": [],
   "source": []
  },
  {
   "cell_type": "code",
   "execution_count": 23,
   "metadata": {},
   "outputs": [
    {
     "data": {
      "text/plain": [
       "0.9247887575725511"
      ]
     },
     "execution_count": 23,
     "metadata": {},
     "output_type": "execute_result"
    }
   ],
   "source": [
    "def cos_sim(a, b):\n",
    "    \"\"\"\n",
    "    计算两个向量之间的余弦相似度\n",
    "    :param: 向量 a \n",
    "    :param: 向量 b\n",
    "    :return: sim\n",
    "    \"\"\"\n",
    "    a = np.mat(a)\n",
    "    b = np.mat(b)\n",
    "    num = float(a * b.T)\n",
    "    denom = np.linalg.norm(a) * np.linalg.norm(b)\n",
    "    sim = num / denom\n",
    "    return sim\n",
    "\n",
    "cos_sim(feature1.flatten(), feature2.flatten())"
   ]
  },
  {
   "cell_type": "code",
   "execution_count": 24,
   "metadata": {},
   "outputs": [
    {
     "data": {
      "text/plain": [
       "0.9130592505927942"
      ]
     },
     "execution_count": 24,
     "metadata": {},
     "output_type": "execute_result"
    }
   ],
   "source": [
    "cos_sim(feature1.flatten(), feature3.flatten())"
   ]
  },
  {
   "cell_type": "code",
   "execution_count": 25,
   "metadata": {},
   "outputs": [
    {
     "data": {
      "text/plain": [
       "0.9832494987242002"
      ]
     },
     "execution_count": 25,
     "metadata": {},
     "output_type": "execute_result"
    }
   ],
   "source": [
    "cos_sim(feature2.flatten(), feature3.flatten())"
   ]
  },
  {
   "cell_type": "code",
   "execution_count": null,
   "metadata": {},
   "outputs": [],
   "source": []
  }
 ],
 "metadata": {
  "kernelspec": {
   "display_name": "Python 3",
   "language": "python",
   "name": "python3"
  },
  "language_info": {
   "codemirror_mode": {
    "name": "ipython",
    "version": 3
   },
   "file_extension": ".py",
   "mimetype": "text/x-python",
   "name": "python",
   "nbconvert_exporter": "python",
   "pygments_lexer": "ipython3",
   "version": "3.6.3"
  }
 },
 "nbformat": 4,
 "nbformat_minor": 4
}
